{
  "nbformat": 4,
  "nbformat_minor": 0,
  "metadata": {
    "colab": {
      "name": "valueIteration.ipynb",
      "provenance": [],
      "collapsed_sections": []
    },
    "kernelspec": {
      "name": "python3",
      "display_name": "Python 3"
    },
    "language_info": {
      "name": "python"
    }
  },
  "cells": [
    {
      "cell_type": "code",
      "execution_count": null,
      "metadata": {
        "colab": {
          "base_uri": "https://localhost:8080/"
        },
        "id": "Qoa9V9KRcVul",
        "outputId": "e3d0d30a-e95c-46c0-9c92-3d75e65a824b"
      },
      "outputs": [
        {
          "output_type": "stream",
          "name": "stdout",
          "text": [
            "\n",
            "\u001b[41mS\u001b[0mFFF\n",
            "FHFH\n",
            "FFFH\n",
            "HFFG\n"
          ]
        }
      ],
      "source": [
        "import gym\n",
        "import gym.envs.toy_text.frozen_lake as fl\n",
        "import numpy as np\n",
        "\n",
        "env = gym.make('FrozenLake-v0',is_slippery=False)\n",
        "env.render()"
      ]
    },
    {
      "cell_type": "code",
      "source": [
        "nbStates = env.observation_space.n \n",
        "nbActions = env.action_space.n"
      ],
      "metadata": {
        "id": "5donsMtYfhuz"
      },
      "execution_count": null,
      "outputs": []
    },
    {
      "cell_type": "code",
      "source": [
        "V = np.zeros(nbStates)\n",
        "V"
      ],
      "metadata": {
        "colab": {
          "base_uri": "https://localhost:8080/"
        },
        "id": "GhdogYuriE_r",
        "outputId": "041c57c9-f20f-4c18-be8c-86f0ec8cce2a"
      },
      "execution_count": null,
      "outputs": [
        {
          "output_type": "execute_result",
          "data": {
            "text/plain": [
              "array([0., 0., 0., 0.])"
            ]
          },
          "metadata": {},
          "execution_count": 10
        }
      ]
    },
    {
      "cell_type": "code",
      "source": [
        "V = np.zeros(nbStates)\n",
        "gamma = 0.9\n",
        "\n",
        "for i in range(21):\n",
        "  V_i = np.zeros(nbStates)\n",
        "  for s in range(nbStates-1):\n",
        "    q_vals = np.zeros(nbActions)\n",
        "    for a in range(nbActions):                                           # iterate for every action              \n",
        "      #print(\"s=\",s,\"a=\",a)\n",
        "      q_a = 0\n",
        "      ## What are the outcomes of action 'a' in state 's'\n",
        "      outcomes = env.unwrapped.P[s][a] \n",
        "      for o in outcomes:\n",
        "        transition_prob = o[0]\n",
        "        s_prime = o[1]\n",
        "        reward = o[2]\n",
        "        q_a += transition_prob * (reward + gamma * V[s_prime])\n",
        "      q_vals[a] = q_a\n",
        "    V_i[s] = q_vals[np.argmax(q_vals) ]\n",
        "  V=V_i \n",
        " \n",
        "print(V)"
      ],
      "metadata": {
        "colab": {
          "base_uri": "https://localhost:8080/"
        },
        "id": "pze6U-3pcYIk",
        "outputId": "ee2b1bd1-deff-4c2a-bda8-daeeab023959"
      },
      "execution_count": null,
      "outputs": [
        {
          "output_type": "stream",
          "name": "stdout",
          "text": [
            "[0.59049 0.6561  0.729   0.6561  0.6561  0.      0.81    0.      0.729\n",
            " 0.81    0.9     0.      0.      0.9     1.      0.     ]\n"
          ]
        }
      ]
    },
    {
      "cell_type": "code",
      "source": [
        "np.reshape(V,(4,4))"
      ],
      "metadata": {
        "colab": {
          "base_uri": "https://localhost:8080/"
        },
        "id": "cGTql7gciTwz",
        "outputId": "dc934c7f-3552-41b7-b48a-306bf573663f"
      },
      "execution_count": null,
      "outputs": [
        {
          "output_type": "execute_result",
          "data": {
            "text/plain": [
              "array([[0.59049, 0.6561 , 0.729  , 0.6561 ],\n",
              "       [0.6561 , 0.     , 0.81   , 0.     ],\n",
              "       [0.729  , 0.81   , 0.9    , 0.     ],\n",
              "       [0.     , 0.9    , 1.     , 0.     ]])"
            ]
          },
          "metadata": {},
          "execution_count": 26
        }
      ]
    },
    {
      "cell_type": "code",
      "source": [
        "# Find optimal policy\n",
        "pi = np.zeros(nbStates)\n",
        "for s in range(nbStates-1):\n",
        "    q_vals = np.zeros(nbActions)\n",
        "    for a in range(nbActions):                                           # iterate for every action              \n",
        "      #print(\"s=\",s,\"a=\",a)\n",
        "      q_a = 0\n",
        "      outcomes = env.unwrapped.P[s][a] \n",
        "      for o in outcomes:\n",
        "        transition_prob = o[0]\n",
        "        s_prime = o[1]\n",
        "        reward = o[2]\n",
        "        q_a += transition_prob * (reward + gamma * V[s_prime])\n",
        "      q_vals[a] = q_a\n",
        "      \n",
        "    pi[s] = np.argmax(q_vals)\n",
        "    #print(\"s=\",s,\",q_vals:\",q_vals,\"pi[s]:\",pi[s])\n",
        "\n",
        "print(pi)"
      ],
      "metadata": {
        "colab": {
          "base_uri": "https://localhost:8080/"
        },
        "id": "ZS39N0ULpSv7",
        "outputId": "42f0691a-526f-4f96-8565-2cda23b1644b"
      },
      "execution_count": null,
      "outputs": [
        {
          "output_type": "stream",
          "name": "stdout",
          "text": [
            "[1. 2. 1. 0. 1. 0. 1. 0. 2. 1. 1. 0. 0. 2. 2. 0.]\n"
          ]
        }
      ]
    },
    {
      "cell_type": "code",
      "source": [
        "## Follow policy\n",
        "env.reset()\n",
        "s=0\n",
        "for t in range(10):\n",
        "  a = pi[s]\n",
        "  print(\"s=\",s,\"a=\",a)\n",
        "  s_prime, reward, done, info = env.step(a)\n",
        "  #print(s_prime)\n",
        "  if done==True:\n",
        "       break\n",
        "  else:\n",
        "    s=s_prime"
      ],
      "metadata": {
        "colab": {
          "base_uri": "https://localhost:8080/"
        },
        "id": "2S8MWQ-YsfTY",
        "outputId": "ae648ab2-8df7-4052-cabb-816ef0d11ead"
      },
      "execution_count": null,
      "outputs": [
        {
          "output_type": "stream",
          "name": "stdout",
          "text": [
            "s= 0 a= 1.0\n",
            "s= 4 a= 1.0\n",
            "s= 8 a= 2.0\n",
            "s= 9 a= 1.0\n",
            "s= 13 a= 2.0\n",
            "s= 14 a= 2.0\n"
          ]
        }
      ]
    }
  ]
}
